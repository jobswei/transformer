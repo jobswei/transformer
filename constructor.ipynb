{
 "cells": [
  {
   "cell_type": "code",
   "execution_count": null,
   "metadata": {},
   "outputs": [],
   "source": []
  },
  {
   "cell_type": "code",
   "execution_count": null,
   "metadata": {},
   "outputs": [],
   "source": []
  },
  {
   "cell_type": "code",
   "execution_count": 1,
   "metadata": {},
   "outputs": [
    {
     "name": "stdout",
     "output_type": "stream",
     "text": [
      "self.src_embedding=src_embedding\n",
      "self.tgt_embedding=tgt_embedding\n",
      "self.encoder=encoder\n",
      "self.decoder=decoder\n"
     ]
    }
   ],
   "source": [
    "txt=\"src_embedding,tgt_embedding, encoder,decoder\"\n",
    "lis=[i.strip() for i in txt.split(\",\")]\n",
    "for i in lis:\n",
    "    print(f\"self.{i}={i}\")"
   ]
  }
 ],
 "metadata": {
  "kernelspec": {
   "display_name": "detr",
   "language": "python",
   "name": "python3"
  },
  "language_info": {
   "codemirror_mode": {
    "name": "ipython",
    "version": 3
   },
   "file_extension": ".py",
   "mimetype": "text/x-python",
   "name": "python",
   "nbconvert_exporter": "python",
   "pygments_lexer": "ipython3",
   "version": "3.8.18"
  }
 },
 "nbformat": 4,
 "nbformat_minor": 2
}
